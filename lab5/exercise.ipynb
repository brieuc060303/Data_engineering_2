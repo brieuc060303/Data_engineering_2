{
  "cells": [
    {
      "cell_type": "markdown",
      "id": "51c9672d-8d0c-470d-ac2d-1271f8ec3f14",
      "metadata": {
        "id": "51c9672d-8d0c-470d-ac2d-1271f8ec3f14"
      },
      "source": [
        "# Chapter 5 - Exercises\n",
        "\n",
        "> Author : Badr TAJINI - Large Language model (LLMs) - ESIEE 2024-2025\n",
        "\n",
        "---"
      ]
    },
    {
      "cell_type": "markdown",
      "id": "5fea8be3-30a1-4623-a6d7-b095c6c1092e",
      "metadata": {
        "id": "5fea8be3-30a1-4623-a6d7-b095c6c1092e"
      },
      "source": [
        "# Exercise 5.1: Temperature-scaled softmax scores and sampling probabilities"
      ]
    },
    {
      "cell_type": "markdown",
      "id": "5860ba9f-2db3-4480-b96b-4be1c68981eb",
      "metadata": {
        "id": "5860ba9f-2db3-4480-b96b-4be1c68981eb"
      },
      "source": [
        "**Empirical Analysis of Token Sampling Frequencies Under Temperature Scaling**\n",
        "\n",
        "**Key Research Question: How does temperature-based scaling of the `softmax` probability distribution impact the sampling frequency of the specific lexical token `\"pizza\"`?**\n",
        "\n",
        "*Methodological Framework:*\n",
        "Utilize the `print_sampled_tokens` function to:\n",
        "- Empirically examine token sampling probabilities\n",
        "- Analyze the impact of temperature scaling\n",
        "- Quantify the sampling occurrence of the `\"pizza\"` token\n",
        "\n",
        "*Analytical Objectives:*\n",
        "- Determine the precise sampling frequency of `\"pizza\"` across different temperature configurations\n",
        "- Critically evaluate the current computational approach to sampling frequency measurement\n",
        "- Explore potential methodological improvements for more efficient and accurate token sampling analysis\n",
        "\n",
        "*Key Investigative Parameters:*\n",
        "- Primary token of interest: `\"pizza\"`\n",
        "- Sampling method: Temperature-scaled `softmax` distribution\n",
        "- Computational tool: `print_sampled_tokens` function\n"
      ]
    },
    {
      "cell_type": "code",
      "source": [
        "from google.colab import drive\n",
        "drive.mount('/content/drive')\n",
        "import sys\n",
        "sys.path.append('/content/drive/MyDrive/Colab Notebooks/badr/lab5')"
      ],
      "metadata": {
        "colab": {
          "base_uri": "https://localhost:8080/"
        },
        "id": "wkzwVSElyUzw",
        "outputId": "9aee681f-46f3-4bc6-e56f-bfc6eaf19b6e"
      },
      "id": "wkzwVSElyUzw",
      "execution_count": 1,
      "outputs": [
        {
          "output_type": "stream",
          "name": "stdout",
          "text": [
            "Mounted at /content/drive\n"
          ]
        }
      ]
    },
    {
      "cell_type": "code",
      "source": [
        "!pip install tiktoken"
      ],
      "metadata": {
        "colab": {
          "base_uri": "https://localhost:8080/"
        },
        "id": "EfD3O0kDyjmv",
        "outputId": "8291ee79-e8b6-4195-b01c-2d4103a3a72f"
      },
      "id": "EfD3O0kDyjmv",
      "execution_count": 2,
      "outputs": [
        {
          "output_type": "stream",
          "name": "stdout",
          "text": [
            "Collecting tiktoken\n",
            "  Downloading tiktoken-0.9.0-cp311-cp311-manylinux_2_17_x86_64.manylinux2014_x86_64.whl.metadata (6.7 kB)\n",
            "Requirement already satisfied: regex>=2022.1.18 in /usr/local/lib/python3.11/dist-packages (from tiktoken) (2024.11.6)\n",
            "Requirement already satisfied: requests>=2.26.0 in /usr/local/lib/python3.11/dist-packages (from tiktoken) (2.32.3)\n",
            "Requirement already satisfied: charset-normalizer<4,>=2 in /usr/local/lib/python3.11/dist-packages (from requests>=2.26.0->tiktoken) (3.4.1)\n",
            "Requirement already satisfied: idna<4,>=2.5 in /usr/local/lib/python3.11/dist-packages (from requests>=2.26.0->tiktoken) (3.10)\n",
            "Requirement already satisfied: urllib3<3,>=1.21.1 in /usr/local/lib/python3.11/dist-packages (from requests>=2.26.0->tiktoken) (2.3.0)\n",
            "Requirement already satisfied: certifi>=2017.4.17 in /usr/local/lib/python3.11/dist-packages (from requests>=2.26.0->tiktoken) (2025.1.31)\n",
            "Downloading tiktoken-0.9.0-cp311-cp311-manylinux_2_17_x86_64.manylinux2014_x86_64.whl (1.2 MB)\n",
            "\u001b[?25l   \u001b[90m━━━━━━━━━━━━━━━━━━━━━━━━━━━━━━━━━━━━━━━━\u001b[0m \u001b[32m0.0/1.2 MB\u001b[0m \u001b[31m?\u001b[0m eta \u001b[36m-:--:--\u001b[0m\r\u001b[2K   \u001b[91m━━━━━━━━━━━━━━━━━━━━━━━\u001b[0m\u001b[90m╺\u001b[0m\u001b[90m━━━━━━━━━━━━━━━━\u001b[0m \u001b[32m0.7/1.2 MB\u001b[0m \u001b[31m21.6 MB/s\u001b[0m eta \u001b[36m0:00:01\u001b[0m\r\u001b[2K   \u001b[90m━━━━━━━━━━━━━━━━━━━━━━━━━━━━━━━━━━━━━━━━\u001b[0m \u001b[32m1.2/1.2 MB\u001b[0m \u001b[31m21.8 MB/s\u001b[0m eta \u001b[36m0:00:00\u001b[0m\n",
            "\u001b[?25hInstalling collected packages: tiktoken\n",
            "Successfully installed tiktoken-0.9.0\n"
          ]
        }
      ]
    },
    {
      "cell_type": "code",
      "execution_count": 3,
      "id": "c9311ec7",
      "metadata": {
        "id": "c9311ec7"
      },
      "outputs": [],
      "source": [
        "import torch\n",
        "from previous_labs import GPTModel\n",
        "import matplotlib.pyplot as plt\n",
        "from gpt_generate import generate, text_to_token_ids, token_ids_to_text, download_and_load_gpt2,load_weights_into_gpt\n",
        "import tiktoken"
      ]
    },
    {
      "cell_type": "code",
      "execution_count": 4,
      "id": "ab023e59",
      "metadata": {
        "id": "ab023e59",
        "outputId": "eb6a77e1-0f1a-4f19-b1fe-7beeaac54ca5",
        "colab": {
          "base_uri": "https://localhost:8080/",
          "height": 324
        }
      },
      "outputs": [
        {
          "output_type": "stream",
          "name": "stdout",
          "text": [
            "forward\n"
          ]
        },
        {
          "output_type": "display_data",
          "data": {
            "text/plain": [
              "<Figure size 500x300 with 1 Axes>"
            ],
            "image/png": "[encoded data removed]"
          },
          "metadata": {}
        }
      ],
      "source": [
        "def print_sampled_tokens(probas):\n",
        "    torch.manual_seed(123) # Manual seed for reproducibility\n",
        "    sample = [torch.multinomial(probas, num_samples=1).item() for i in range(1_000)]\n",
        "    sampled_ids = torch.bincount(torch.tensor(sample))\n",
        "    for i, freq in enumerate(sampled_ids):\n",
        "        print(f\"{freq} x {inverse_vocab[i]}\")\n",
        "\n",
        "vocab = {\n",
        "    \"closer\": 0,\n",
        "    \"every\": 1,\n",
        "    \"effort\": 2,\n",
        "    \"forward\": 3,\n",
        "    \"inches\": 4,\n",
        "    \"moves\": 5,\n",
        "    \"pizza\": 6,\n",
        "    \"toward\": 7,\n",
        "    \"you\": 8,\n",
        "}\n",
        "\n",
        "inverse_vocab = {v: k for k, v in vocab.items()}\n",
        "\n",
        "# Suppose input is \"every effort moves you\", and the LLM\n",
        "# returns the following logits for the next token:\n",
        "next_token_logits = torch.tensor(\n",
        "    [4.51, 0.89, -1.90, 6.75, 1.63, -1.62, -1.89, 6.28, 1.79]\n",
        ")\n",
        "\n",
        "probas = torch.softmax(next_token_logits, dim=0)\n",
        "next_token_id = torch.argmax(probas).item()\n",
        "\n",
        "# The next generated token is then as follows:\n",
        "print(inverse_vocab[next_token_id])\n",
        "\n",
        "def softmax_with_temperature(logits, temperature):\n",
        "    scaled_logits = logits / temperature\n",
        "    return torch.softmax(scaled_logits, dim=0)\n",
        "\n",
        "# Temperature values\n",
        "temperatures = [1, 0.1, 5]  # Original, higher confidence, and lower confidence\n",
        "\n",
        "# Calculate scaled probabilities\n",
        "scaled_probas = [softmax_with_temperature(next_token_logits, T) for T in temperatures]\n",
        "\n",
        "# Plotting\n",
        "x = torch.arange(len(vocab))\n",
        "bar_width = 0.15\n",
        "\n",
        "fig, ax = plt.subplots(figsize=(5, 3))\n",
        "for i, T in enumerate(temperatures):\n",
        "    rects = ax.bar(x + i * bar_width, scaled_probas[i], bar_width, label=f'Temperature = {T}')\n",
        "\n",
        "ax.set_ylabel('Probability')\n",
        "ax.set_xticks(x)\n",
        "ax.set_xticklabels(vocab.keys(), rotation=90)\n",
        "ax.legend()\n",
        "\n",
        "plt.tight_layout()\n",
        "plt.savefig(\"temperature-plot.pdf\")\n",
        "plt.show()"
      ]
    },
    {
      "cell_type": "code",
      "source": [
        "temp5_idx = 2\n",
        "pizza_idx = 6\n",
        "\n",
        "scaled_probas[temp5_idx][pizza_idx]"
      ],
      "metadata": {
        "id": "lnON51wqdz5-",
        "colab": {
          "base_uri": "https://localhost:8080/"
        },
        "outputId": "2c1cecb4-2975-474c-f0d6-cbc77a9488c6"
      },
      "id": "lnON51wqdz5-",
      "execution_count": 5,
      "outputs": [
        {
          "output_type": "execute_result",
          "data": {
            "text/plain": [
              "tensor(0.0430)"
            ]
          },
          "metadata": {},
          "execution_count": 5
        }
      ]
    },
    {
      "cell_type": "markdown",
      "id": "2fecf195",
      "metadata": {
        "id": "2fecf195"
      },
      "source": [
        "We can see that the word pizza has only a probability of temperature 5, which is the low confidence temperature. It has a very low chance of chosing pizza (and it won't). The word pizza is very specific, so a temperature based scaling won't help it because it needs very specific words before, and in this case there are not."
      ]
    },
    {
      "cell_type": "markdown",
      "id": "b510ffb0-adca-4d64-8a12-38c4646fd736",
      "metadata": {
        "id": "b510ffb0-adca-4d64-8a12-38c4646fd736"
      },
      "source": [
        "# Exercise 5.2: Different temperature and top-k settings"
      ]
    },
    {
      "cell_type": "markdown",
      "id": "884990db-d1a6-4c4e-8e36-2c1e4c1e67c7",
      "metadata": {
        "id": "884990db-d1a6-4c4e-8e36-2c1e4c1e67c7"
      },
      "source": [
        "**Empirical Investigation of Generative Language Model Sampling Parameters**\n",
        "\n",
        "**Key Research Question: How do variations in `temperature` and `top-k` sampling parameters influence the qualitative and probabilistic characteristics of token generation in stochastic language models?**\n",
        "\n",
        "*Methodological Framework:*\n",
        "Conduct a systematic empirical exploration of:\n",
        "- Temperature scaling dynamics\n",
        "- Top-k probability truncation mechanisms\n",
        "- Generative output characteristics across different parameter configurations\n",
        "\n",
        "*Analytical Objectives:*\n",
        "- Identify contextual applications that benefit from lower `temperature` and `top-k` settings\n",
        "- Explore potential use cases preferring higher `temperature` and `top-k` configurations\n",
        "- Develop nuanced understanding of sampling parameter impact on generative outputs\n",
        "\n",
        "*Investigative Dimensions:*\n",
        "1. Low `temperature` and `top-k` Scenarios\n",
        "   - Potential applications\n",
        "   - Characteristics of generated outputs\n",
        "   - Contextual relevance\n",
        "\n",
        "2. High `temperature` and `top-k` Scenarios\n",
        "   - Potential applications\n",
        "   - Characteristics of generated outputs\n",
        "   - Contextual relevance\n",
        "\n",
        "*Recommended Experimental Protocol:*\n",
        "1. Systematically vary `temperature` and `top-k` parameters\n",
        "2. Meticulously document generative output characteristics\n",
        "3. Critically analyze observed variations\n",
        "4. Develop hypotheses about optimal parameter configurations for specific applications"
      ]
    },
    {
      "cell_type": "code",
      "execution_count": 6,
      "id": "3ba62921",
      "metadata": {
        "id": "3ba62921",
        "outputId": "b89fcfec-6876-4925-ea30-7933d7331f86",
        "colab": {
          "base_uri": "https://localhost:8080/"
        }
      },
      "outputs": [
        {
          "output_type": "stream",
          "name": "stdout",
          "text": [
            "Output text:\n",
            " Every effort moves you Feature Bagg finally insurerggles Dean muttered suspected theory Components parallels western Substance unlocked attracted\n"
          ]
        }
      ],
      "source": [
        "torch.manual_seed(123)\n",
        "\n",
        "tokenizer = tiktoken.get_encoding(\"gpt2\")\n",
        "\n",
        "GPT_CONFIG_124M = {\n",
        "    \"vocab_size\": 50257,    # Vocabulary size\n",
        "    \"context_length\": 1024, # Context length\n",
        "    \"emb_dim\": 768,         # Embedding dimension\n",
        "    \"n_heads\": 12,          # Number of attention heads\n",
        "    \"n_layers\": 12,         # Number of layers\n",
        "    \"drop_rate\": 0.1,       # Dropout rate\n",
        "    \"qkv_bias\": False       # Query-Key-Value bias\n",
        "}\n",
        "\n",
        "model =  GPTModel(GPT_CONFIG_124M)\n",
        "\n",
        "token_ids = generate(\n",
        "    model=model,\n",
        "    idx=text_to_token_ids(\"Every effort moves you\", tokenizer),\n",
        "    max_new_tokens=15,\n",
        "    context_size=GPT_CONFIG_124M[\"context_length\"],\n",
        "    top_k=25,\n",
        "    temperature=1.4\n",
        ")\n",
        "\n",
        "print(\"Output text:\\n\", token_ids_to_text(token_ids, tokenizer))"
      ]
    },
    {
      "cell_type": "code",
      "execution_count": 7,
      "id": "5edbc9cc",
      "metadata": {
        "id": "5edbc9cc",
        "outputId": "07dd270e-9896-439d-cbd6-f0de1057649f",
        "colab": {
          "base_uri": "https://localhost:8080/"
        }
      },
      "outputs": [
        {
          "output_type": "stream",
          "name": "stdout",
          "text": [
            "Output text:\n",
            " Every effort moves youdocumented DIDilogyhighIFTiness exoticopsis Powered migrexeGetting435 Termin -\n"
          ]
        }
      ],
      "source": [
        "token_ids = generate(\n",
        "    model=model,\n",
        "    idx=text_to_token_ids(\"Every effort moves you\", tokenizer),\n",
        "    max_new_tokens=15,\n",
        "    context_size=GPT_CONFIG_124M[\"context_length\"],\n",
        "    top_k=50,\n",
        "    temperature=1.4\n",
        ")\n",
        "\n",
        "print(\"Output text:\\n\", token_ids_to_text(token_ids, tokenizer))"
      ]
    },
    {
      "cell_type": "code",
      "execution_count": 8,
      "id": "cc960dd8",
      "metadata": {
        "id": "cc960dd8",
        "outputId": "09b5de15-9186-48bc-8e86-c059f4ab27a9",
        "colab": {
          "base_uri": "https://localhost:8080/"
        }
      },
      "outputs": [
        {
          "output_type": "stream",
          "name": "stdout",
          "text": [
            "Output text:\n",
            " Every effort moves yoularg acknowled arsenal negligcruscape Tobias brace close Tom disgruntled Area Shots Nord belongs\n"
          ]
        }
      ],
      "source": [
        "token_ids = generate(\n",
        "    model=model,\n",
        "    idx=text_to_token_ids(\"Every effort moves you\", tokenizer),\n",
        "    max_new_tokens=15,\n",
        "    context_size=GPT_CONFIG_124M[\"context_length\"],\n",
        "    top_k=50,\n",
        "    temperature=0.7\n",
        ")\n",
        "\n",
        "print(\"Output text:\\n\", token_ids_to_text(token_ids, tokenizer))"
      ]
    },
    {
      "cell_type": "code",
      "execution_count": 9,
      "id": "edaac72a",
      "metadata": {
        "id": "edaac72a",
        "outputId": "e75785c4-5ea7-433b-a820-1cf850145235",
        "colab": {
          "base_uri": "https://localhost:8080/"
        }
      },
      "outputs": [
        {
          "output_type": "stream",
          "name": "stdout",
          "text": [
            "Output text:\n",
            " Every effort moves you Ae frequencies drewouncing westernourage sungelect Ankara periphery Sketch Wildlife steppings Campbell\n"
          ]
        }
      ],
      "source": [
        "token_ids = generate(\n",
        "    model=model,\n",
        "    idx=text_to_token_ids(\"Every effort moves you\", tokenizer),\n",
        "    max_new_tokens=15,\n",
        "    context_size=GPT_CONFIG_124M[\"context_length\"],\n",
        "    top_k=5,\n",
        "    temperature=0.7\n",
        ")\n",
        "\n",
        "print(\"Output text:\\n\", token_ids_to_text(token_ids, tokenizer))"
      ]
    },
    {
      "cell_type": "code",
      "execution_count": 10,
      "id": "bf559c8a",
      "metadata": {
        "id": "bf559c8a",
        "outputId": "ed858c4b-9b0f-45a9-d306-05e283122412",
        "colab": {
          "base_uri": "https://localhost:8080/"
        }
      },
      "outputs": [
        {
          "output_type": "stream",
          "name": "stdout",
          "text": [
            "Output text:\n",
            " Every effort moves you slewfamily Surely amendment objectsThompsonRussia Solid openly 350 wheelsartmentsreq Protestants nick\n"
          ]
        }
      ],
      "source": [
        "token_ids = generate(\n",
        "    model=model,\n",
        "    idx=text_to_token_ids(\"Every effort moves you\", tokenizer),\n",
        "    max_new_tokens=15,\n",
        "    context_size=GPT_CONFIG_124M[\"context_length\"],\n",
        "    top_k=3,\n",
        "    temperature=5\n",
        ")\n",
        "\n",
        "print(\"Output text:\\n\", token_ids_to_text(token_ids, tokenizer))"
      ]
    },
    {
      "cell_type": "markdown",
      "id": "e9374541",
      "metadata": {
        "id": "e9374541"
      },
      "source": [
        "Every tries are not good, specially when the temperature is too low and top_k too, the best configuration seems to be top_k = 25 and temperature = 1.4"
      ]
    },
    {
      "cell_type": "markdown",
      "id": "3f35425d-529d-4179-a1c4-63cb8b25b156",
      "metadata": {
        "id": "3f35425d-529d-4179-a1c4-63cb8b25b156"
      },
      "source": [
        "# Exercise 5.3: Deterministic behavior in the decoding functions"
      ]
    },
    {
      "cell_type": "markdown",
      "id": "d12229a2-1d52-46ff-b1e8-198f2e58a7d2",
      "metadata": {
        "id": "d12229a2-1d52-46ff-b1e8-198f2e58a7d2"
      },
      "source": [
        "**Deterministic Token Generation: Parametric Strategies for Eliminating Stochastic Variability**\n",
        "\n",
        "**Key Research Question: What specific configuration parameters within the `generate` function can systematically eliminate randomness to ensure consistently reproducible generative outputs?**\n",
        "\n",
        "*Methodological Framework:*\n",
        "*Investigate comprehensive strategies to:*\n",
        "- Suppress stochastic token generation mechanisms\n",
        "- Enforce deterministic computational behavior\n",
        "- Replicate the predictable output characteristics of `generate_simple`\n",
        "\n",
        "*Analytical Objectives:*\n",
        "- Identify all potential parameter combinations\n",
        "- Systematically neutralize probabilistic sampling variations\n",
        "- Establish deterministic generative protocol\n",
        "\n",
        "*Critical Configuration Parameters to Examine:*\n",
        "1. `temperature` scaling\n",
        "2. `top_k` pruning mechanism\n",
        "3. Random seed initialization\n",
        "4. Sampling strategy selection\n",
        "\n",
        "*Recommended Experimental Protocol:*\n",
        "1. Analyze individual parameter impacts\n",
        "2. Identify minimal configuration requirements\n",
        "3. Validate deterministic output generation\n",
        "4. Compare against `generate_simple` implementation\n",
        "\n",
        "*Computational Implications:*\n",
        "- Understanding stochastic suppression mechanisms\n",
        "- Insights into generative model controllability\n",
        "- Strategies for reproducible machine learning outputs"
      ]
    },
    {
      "cell_type": "code",
      "execution_count": 11,
      "id": "a7fe5cf5",
      "metadata": {
        "id": "a7fe5cf5",
        "outputId": "6338285f-7a15-46e4-c7b6-dcb2b684ba40",
        "colab": {
          "base_uri": "https://localhost:8080/"
        }
      },
      "outputs": [
        {
          "output_type": "stream",
          "name": "stdout",
          "text": [
            "Output text:\n",
            " Every effort moves you kidCarter donationswhite travelling Vertical 1977 sphericalPickFiles Grade brokers marched negativity aids\n"
          ]
        }
      ],
      "source": [
        "#In order to eliminate randomness, we have to set the seed :\n",
        "torch.manual_seed(123)\n",
        "#we have to set the temperature and top_k\n",
        "temperature = 1.4\n",
        "\n",
        "top_k = 25\n",
        "\n",
        "token_ids = generate(\n",
        "    model=model,\n",
        "    idx=text_to_token_ids(\"Every effort moves you\", tokenizer),\n",
        "    max_new_tokens=15,\n",
        "    context_size=GPT_CONFIG_124M[\"context_length\"],\n",
        "    top_k=top_k,\n",
        "    temperature=temperature\n",
        ")\n",
        "\n",
        "print(\"Output text:\\n\", token_ids_to_text(token_ids, tokenizer))"
      ]
    },
    {
      "cell_type": "markdown",
      "id": "04d3e963",
      "metadata": {
        "id": "04d3e963"
      },
      "source": [
        "Every time I run it, it is the same output"
      ]
    },
    {
      "cell_type": "markdown",
      "id": "6d0480e5-fb4e-41f8-a161-7ac980d71d47",
      "metadata": {
        "id": "6d0480e5-fb4e-41f8-a161-7ac980d71d47"
      },
      "source": [
        "# Exercise 5.4: Continued pretraining"
      ]
    },
    {
      "cell_type": "markdown",
      "id": "f40044e8-a0f5-476c-99fd-489b999fd80a",
      "metadata": {
        "id": "f40044e8-a0f5-476c-99fd-489b999fd80a"
      },
      "source": [
        "**Continuation of Model Training: Stateful Resumption and Persistent Learning Dynamics**\n",
        "\n",
        "**Key Research Question: How can we effectively restore a machine learning model's training state across separate computational sessions, enabling seamless continuation of the pretraining process?**\n",
        "\n",
        "*Methodological Framework:*\n",
        "Implement a comprehensive model and optimizer state restoration strategy involving:\n",
        "- Weight reconstruction\n",
        "- Optimizer state recovery\n",
        "- Resumption of training from previously interrupted state\n",
        "\n",
        "*Analytical Objectives:*\n",
        "- Demonstrate stateful model persistence\n",
        "- Execute additional training epoch using restored model configuration\n",
        "- Validate continuity of learning progression\n",
        "\n",
        "*Critical Procedural Steps:*\n",
        "1. Load previously saved model weights\n",
        "2. Reconstruct optimizer internal state\n",
        "3. Reinitiate training using `train_model_simple` function\n",
        "4. Complete one additional training epoch\n",
        "\n",
        "*Recommended Implementation Strategy:*\n",
        "- Utilize precise weight and optimizer state loading mechanisms\n",
        "- Verify complete state restoration\n",
        "- Execute uninterrupted additional training epoch"
      ]
    },
    {
      "cell_type": "code",
      "execution_count": 12,
      "id": "dfc4b409",
      "metadata": {
        "id": "dfc4b409"
      },
      "outputs": [],
      "source": [
        "import os\n",
        "import urllib.request\n",
        "\n",
        "file_path = \"the-verdict.txt\"\n",
        "url = \"https://huggingface.co/datasets/DarwinAnim8or/the-verdict/blob/main/the-verdict.txt\"\n",
        "\n",
        "if not os.path.exists(file_path):\n",
        "    with urllib.request.urlopen(url) as response:\n",
        "        text_data = response.read().decode('utf-8')\n",
        "    with open(file_path, \"w\", encoding=\"utf-8\") as file:\n",
        "        file.write(text_data)\n",
        "else:\n",
        "    with open(file_path, \"r\", encoding=\"utf-8\") as file:\n",
        "        text_data = file.read()"
      ]
    },
    {
      "cell_type": "code",
      "execution_count": 17,
      "id": "83784c00",
      "metadata": {
        "id": "83784c00"
      },
      "outputs": [],
      "source": [
        "from previous_labs import create_dataloader_v1\n",
        "from gpt_train import train_model_simple\n",
        "# Train/validation ratio\n",
        "train_ratio = 0.90\n",
        "split_idx = int(train_ratio * len(text_data))\n",
        "train_data = text_data[:split_idx]\n",
        "val_data = text_data[split_idx:]\n",
        "\n",
        "train_loader = create_dataloader_v1(\n",
        "    train_data,\n",
        "    batch_size=2,\n",
        "    max_length=GPT_CONFIG_124M[\"context_length\"],\n",
        "\n",
        "    stride=GPT_CONFIG_124M[\"context_length\"],\n",
        "    drop_last=True,\n",
        "    shuffle=True,\n",
        "    num_workers=0\n",
        ")\n",
        "\n",
        "val_loader = create_dataloader_v1(\n",
        "    val_data,\n",
        "    batch_size=2,\n",
        "    max_length=GPT_CONFIG_124M[\"context_length\"],\n",
        "    stride=GPT_CONFIG_124M[\"context_length\"],\n",
        "    drop_last=False,\n",
        "    shuffle=False,\n",
        "    num_workers=0\n",
        ")\n",
        "\n",
        "device = torch.device(\"cuda\" if torch.cuda.is_available() else \"cpu\")\n"
      ]
    },
    {
      "cell_type": "code",
      "source": [
        "optimizer = torch.optim.AdamW(model.parameters(), lr=0.0004, weight_decay=0.1)\n",
        "torch.save({\n",
        "    \"model_state_dict\": model.state_dict(),\n",
        "    \"optimizer_state_dict\": optimizer.state_dict(),\n",
        "    },\n",
        "    \"model_and_optimizer.pth\"\n",
        ")"
      ],
      "metadata": {
        "id": "LkRY-2M2zKp7"
      },
      "id": "LkRY-2M2zKp7",
      "execution_count": 18,
      "outputs": []
    },
    {
      "cell_type": "code",
      "source": [
        "checkpoint = torch.load(\"model_and_optimizer.pth\")\n",
        "\n",
        "model = GPTModel(GPT_CONFIG_124M)\n",
        "model.load_state_dict(checkpoint[\"model_state_dict\"])\n",
        "\n",
        "optimizer = torch.optim.AdamW(model.parameters(), lr=0.0005, weight_decay=0.1)\n",
        "optimizer.load_state_dict(checkpoint[\"optimizer_state_dict\"])"
      ],
      "metadata": {
        "colab": {
          "base_uri": "https://localhost:8080/"
        },
        "id": "gg5q3SNUzN-r",
        "outputId": "2271adc7-3fed-45af-eb06-a0b0e2a94937"
      },
      "id": "gg5q3SNUzN-r",
      "execution_count": 19,
      "outputs": [
        {
          "output_type": "stream",
          "name": "stderr",
          "text": [
            "<ipython-input-19-39a72726d664>:1: FutureWarning: You are using `torch.load` with `weights_only=False` (the current default value), which uses the default pickle module implicitly. It is possible to construct malicious pickle data which will execute arbitrary code during unpickling (See https://github.com/pytorch/pytorch/blob/main/SECURITY.md#untrusted-models for more details). In a future release, the default value for `weights_only` will be flipped to `True`. This limits the functions that could be executed during unpickling. Arbitrary objects will no longer be allowed to be loaded via this mode unless they are explicitly allowlisted by the user via `torch.serialization.add_safe_globals`. We recommend you start setting `weights_only=True` for any use case where you don't have full control of the loaded file. Please open an issue on GitHub for any issues related to this experimental feature.\n",
            "  checkpoint = torch.load(\"model_and_optimizer.pth\")\n"
          ]
        }
      ]
    },
    {
      "cell_type": "code",
      "source": [
        "train_model_simple(model, train_loader, val_loader, optimizer, device, 1,\n",
        "                       5, 1, \"Every effort moves you\", tokenizer)"
      ],
      "metadata": {
        "id": "tqFyconMzPvc"
      },
      "id": "tqFyconMzPvc",
      "execution_count": null,
      "outputs": []
    },
    {
      "cell_type": "markdown",
      "id": "3384e788-f5a1-407c-8dd1-87959b75026d",
      "metadata": {
        "id": "3384e788-f5a1-407c-8dd1-87959b75026d"
      },
      "source": [
        "# Exercise 5.5: Training and validation set losses of the pretrained model"
      ]
    },
    {
      "cell_type": "markdown",
      "id": "7cb1140b-2027-4156-8d19-600ac849edbe",
      "metadata": {
        "id": "7cb1140b-2027-4156-8d19-600ac849edbe"
      },
      "source": [
        "**Comparative Loss Assessment: Pretrained Model Performance on Specialized Textual Domain**\n",
        "\n",
        "**Key Research Question: What are the comparative training and validation set losses when applying a pretrained OpenAI `GPTModel` to the \"The Verdict\" dataset?**\n",
        "\n",
        "*Methodological Framework:*\n",
        "Conduct a comprehensive loss evaluation involving:\n",
        "- Model weight initialization from pretrained OpenAI configuration\n",
        "- Computational loss calculation across training and validation datasets\n",
        "- Quantitative performance assessment in domain-specific context\n",
        "\n",
        "*Analytical Objectives:*\n",
        "- Determine precise loss metrics for training dataset\n",
        "- Calculate validation set loss\n",
        "- Interpret performance characteristics of pretrained model on specialized textual domain\n",
        "\n",
        "*Critical Computational Procedures:*\n",
        "1. Load pretrained OpenAI `GPTModel` weights\n",
        "2. Prepare \"The Verdict\" dataset\n",
        "3. Compute training set loss\n",
        "4. Compute validation set loss\n",
        "5. Comparative loss analysis\n",
        "\n",
        "*Investigative Parameters:*\n",
        "- Model: Pretrained OpenAI `GPTModel`\n",
        "- Dataset: \"The Verdict\"\n",
        "- Metrics: Training and validation loss measurements\n",
        "\n",
        "*Recommended Analytical Approach:*\n",
        "- Implement precise loss computation\n",
        "- Validate computational methodology\n",
        "- Critically interpret loss metric implications"
      ]
    },
    {
      "cell_type": "code",
      "source": [
        "GPT_CONFIG_124M = {\n",
        "    \"vocab_size\": 50257,    # Vocabulary size\n",
        "    \"context_length\": 1024, # Context length\n",
        "    \"emb_dim\": 768,         # Embedding dimension\n",
        "    \"n_heads\": 12,          # Number of attention heads\n",
        "    \"n_layers\": 12,         # Number of layers\n",
        "    \"drop_rate\": 0.1,       # Dropout rate\n",
        "    \"qkv_bias\": False       # Query-Key-Value bias\n",
        "}\n",
        "\n",
        "model_configs = {\n",
        "    \"gpt2-small (124M)\": {\"emb_dim\": 768, \"n_layers\": 12, \"n_heads\": 12},\n",
        "    \"gpt2-medium (355M)\": {\"emb_dim\": 1024, \"n_layers\": 24, \"n_heads\": 16},\n",
        "    \"gpt2-large (774M)\": {\"emb_dim\": 1280, \"n_layers\": 36, \"n_heads\": 20},\n",
        "    \"gpt2-xl (1558M)\": {\"emb_dim\": 1600, \"n_layers\": 48, \"n_heads\": 25},\n",
        "}\n",
        "\n",
        "model_name = \"gpt2-small (124M)\"\n",
        "\n",
        "NEW_CONFIG = GPT_CONFIG_124M.copy()\n",
        "NEW_CONFIG.update(model_configs[model_name])\n",
        "NEW_CONFIG.update({\"context_length\": 1024, \"qkv_bias\": True})\n",
        "\n",
        "gpt = GPTModel(NEW_CONFIG)\n",
        "gpt.eval();"
      ],
      "metadata": {
        "id": "1fXUlg8dzqh8"
      },
      "id": "1fXUlg8dzqh8",
      "execution_count": 21,
      "outputs": []
    },
    {
      "cell_type": "code",
      "source": [
        "settings, params = download_and_load_gpt2(model_size=\"124M\", models_dir=\"gpt2\")"
      ],
      "metadata": {
        "colab": {
          "base_uri": "https://localhost:8080/"
        },
        "id": "GnOtYC64zr7T",
        "outputId": "a05e88ab-cae8-47da-b9ac-9c18dc428763"
      },
      "id": "GnOtYC64zr7T",
      "execution_count": 22,
      "outputs": [
        {
          "output_type": "stream",
          "name": "stderr",
          "text": [
            "checkpoint: 100%|██████████| 77.0/77.0 [00:00<00:00, 35.6kiB/s]\n",
            "encoder.json: 100%|██████████| 1.04M/1.04M [00:00<00:00, 2.18MiB/s]\n",
            "hparams.json: 100%|██████████| 90.0/90.0 [00:00<00:00, 199kiB/s]\n",
            "model.ckpt.data-00000-of-00001: 100%|██████████| 498M/498M [00:52<00:00, 9.40MiB/s]\n",
            "model.ckpt.index: 100%|██████████| 5.21k/5.21k [00:00<00:00, 2.20MiB/s]\n",
            "model.ckpt.meta: 100%|██████████| 471k/471k [00:00<00:00, 1.29MiB/s]\n",
            "vocab.bpe: 100%|██████████| 456k/456k [00:00<00:00, 1.43MiB/s]\n"
          ]
        }
      ]
    },
    {
      "cell_type": "code",
      "source": [
        "device = torch.device(\"cuda\" if torch.cuda.is_available() else \"cpu\")\n",
        "load_weights_into_gpt(gpt, params)\n",
        "gpt.to(device);"
      ],
      "metadata": {
        "id": "Y7MWEqueztAO"
      },
      "id": "Y7MWEqueztAO",
      "execution_count": 23,
      "outputs": []
    },
    {
      "cell_type": "code",
      "source": [
        "train_model_simple(gpt, train_loader, val_loader, optimizer, device,\n",
        "    num_epochs=10, eval_freq=5, eval_iter=5,\n",
        "    start_context=\"Every effort moves you\", tokenizer=tokenizer\n",
        ")"
      ],
      "metadata": {
        "colab": {
          "base_uri": "https://localhost:8080/"
        },
        "id": "ZxJELoehzvAT",
        "outputId": "e46d356c-2d2d-4cc3-a72c-d145d1136832"
      },
      "id": "ZxJELoehzvAT",
      "execution_count": 24,
      "outputs": [
        {
          "output_type": "stream",
          "name": "stdout",
          "text": [
            "Ep 1 (Step 000000): Train loss 3.327, Val loss 4.998\n",
            "Ep 1 (Step 000005): Train loss 3.574, Val loss 4.998\n",
            "Ep 1 (Step 000010): Train loss 3.620, Val loss 4.998\n",
            "Ep 1 (Step 000015): Train loss 3.055, Val loss 4.998\n",
            "Ep 1 (Step 000020): Train loss 3.846, Val loss 4.998\n",
            "Ep 1 (Step 000025): Train loss 3.160, Val loss 4.998\n",
            "Ep 1 (Step 000030): Train loss 3.683, Val loss 4.998\n",
            "Every effort moves you forward.  The first step is to understand the importance of your work.  The second step is to understand the importance of your work.  The third step is to understand the importance of your work.  The fourth step is\n",
            "Ep 2 (Step 000035): Train loss 3.595, Val loss 4.998\n",
            "Ep 2 (Step 000040): Train loss 4.000, Val loss 4.998\n",
            "Ep 2 (Step 000045): Train loss 3.436, Val loss 4.998\n",
            "Ep 2 (Step 000050): Train loss 2.885, Val loss 4.998\n",
            "Ep 2 (Step 000055): Train loss 2.652, Val loss 4.998\n",
            "Ep 2 (Step 000060): Train loss 3.562, Val loss 4.998\n",
            "Every effort moves you forward.  The first step is to understand the importance of your work.  The second step is to understand the importance of your work.  The third step is to understand the importance of your work.  The fourth step is\n",
            "Ep 3 (Step 000065): Train loss 3.723, Val loss 4.998\n",
            "Ep 3 (Step 000070): Train loss 3.674, Val loss 4.998\n",
            "Ep 3 (Step 000075): Train loss 3.890, Val loss 4.998\n",
            "Ep 3 (Step 000080): Train loss 4.058, Val loss 4.998\n",
            "Ep 3 (Step 000085): Train loss 4.316, Val loss 4.998\n",
            "Ep 3 (Step 000090): Train loss 3.546, Val loss 4.998\n",
            "Every effort moves you forward.  The first step is to understand the importance of your work.  The second step is to understand the importance of your work.  The third step is to understand the importance of your work.  The fourth step is\n",
            "Ep 4 (Step 000095): Train loss 4.035, Val loss 4.998\n",
            "Ep 4 (Step 000100): Train loss 3.512, Val loss 4.998\n",
            "Ep 4 (Step 000105): Train loss 3.241, Val loss 4.998\n",
            "Ep 4 (Step 000110): Train loss 3.569, Val loss 4.998\n",
            "Ep 4 (Step 000115): Train loss 3.362, Val loss 4.998\n",
            "Ep 4 (Step 000120): Train loss 3.838, Val loss 4.998\n",
            "Every effort moves you forward.  The first step is to understand the importance of your work.  The second step is to understand the importance of your work.  The third step is to understand the importance of your work.  The fourth step is\n",
            "Ep 5 (Step 000125): Train loss 3.390, Val loss 4.998\n",
            "Ep 5 (Step 000130): Train loss 3.221, Val loss 4.998\n",
            "Ep 5 (Step 000135): Train loss 3.037, Val loss 4.998\n",
            "Ep 5 (Step 000140): Train loss 3.327, Val loss 4.998\n",
            "Ep 5 (Step 000145): Train loss 3.451, Val loss 4.998\n",
            "Ep 5 (Step 000150): Train loss 2.280, Val loss 4.998\n",
            "Every effort moves you forward.  The first step is to understand the importance of your work.  The second step is to understand the importance of your work.  The third step is to understand the importance of your work.  The fourth step is\n",
            "Ep 6 (Step 000155): Train loss 3.518, Val loss 4.998\n",
            "Ep 6 (Step 000160): Train loss 4.161, Val loss 4.998\n",
            "Ep 6 (Step 000165): Train loss 2.576, Val loss 4.998\n",
            "Ep 6 (Step 000170): Train loss 3.165, Val loss 4.998\n",
            "Ep 6 (Step 000175): Train loss 3.607, Val loss 4.998\n",
            "Ep 6 (Step 000180): Train loss 3.516, Val loss 4.998\n",
            "Ep 6 (Step 000185): Train loss 4.154, Val loss 4.998\n",
            "Every effort moves you forward.  The first step is to understand the importance of your work.  The second step is to understand the importance of your work.  The third step is to understand the importance of your work.  The fourth step is\n",
            "Ep 7 (Step 000190): Train loss 2.955, Val loss 4.998\n",
            "Ep 7 (Step 000195): Train loss 3.588, Val loss 4.998\n",
            "Ep 7 (Step 000200): Train loss 3.823, Val loss 4.998\n",
            "Ep 7 (Step 000205): Train loss 3.711, Val loss 4.998\n",
            "Ep 7 (Step 000210): Train loss 2.449, Val loss 4.998\n",
            "Ep 7 (Step 000215): Train loss 3.753, Val loss 4.998\n",
            "Every effort moves you forward.  The first step is to understand the importance of your work.  The second step is to understand the importance of your work.  The third step is to understand the importance of your work.  The fourth step is\n",
            "Ep 8 (Step 000220): Train loss 3.829, Val loss 4.998\n",
            "Ep 8 (Step 000225): Train loss 3.903, Val loss 4.998\n",
            "Ep 8 (Step 000230): Train loss 3.907, Val loss 4.998\n",
            "Ep 8 (Step 000235): Train loss 3.799, Val loss 4.998\n",
            "Ep 8 (Step 000240): Train loss 3.031, Val loss 4.998\n",
            "Ep 8 (Step 000245): Train loss 3.361, Val loss 4.998\n",
            "Every effort moves you forward.  The first step is to understand the importance of your work.  The second step is to understand the importance of your work.  The third step is to understand the importance of your work.  The fourth step is\n",
            "Ep 9 (Step 000250): Train loss 3.428, Val loss 4.998\n",
            "Ep 9 (Step 000255): Train loss 4.065, Val loss 4.998\n",
            "Ep 9 (Step 000260): Train loss 3.645, Val loss 4.998\n",
            "Ep 9 (Step 000265): Train loss 3.167, Val loss 4.998\n",
            "Ep 9 (Step 000270): Train loss 3.767, Val loss 4.998\n",
            "Ep 9 (Step 000275): Train loss 3.823, Val loss 4.998\n",
            "Every effort moves you forward.  The first step is to understand the importance of your work.  The second step is to understand the importance of your work.  The third step is to understand the importance of your work.  The fourth step is\n",
            "Ep 10 (Step 000280): Train loss 4.423, Val loss 4.998\n",
            "Ep 10 (Step 000285): Train loss 3.812, Val loss 4.998\n",
            "Ep 10 (Step 000290): Train loss 3.508, Val loss 4.998\n",
            "Ep 10 (Step 000295): Train loss 3.399, Val loss 4.998\n",
            "Ep 10 (Step 000300): Train loss 3.399, Val loss 4.998\n",
            "Ep 10 (Step 000305): Train loss 3.402, Val loss 4.998\n",
            "Every effort moves you forward.  The first step is to understand the importance of your work.  The second step is to understand the importance of your work.  The third step is to understand the importance of your work.  The fourth step is\n"
          ]
        },
        {
          "output_type": "execute_result",
          "data": {
            "text/plain": [
              "([3.326893997192383,\n",
              "  3.5741648197174074,\n",
              "  3.6199288845062254,\n",
              "  3.0548882484436035,\n",
              "  3.846469497680664,\n",
              "  3.15981240272522,\n",
              "  3.6834490299224854,\n",
              "  3.595151948928833,\n",
              "  4.000006055831909,\n",
              "  3.43605637550354,\n",
              "  2.884935665130615,\n",
              "  2.65183002948761,\n",
              "  3.562030553817749,\n",
              "  3.722620725631714,\n",
              "  3.673671102523804,\n",
              "  3.890450191497803,\n",
              "  4.0578537940979,\n",
              "  4.315756607055664,\n",
              "  3.5464313507080076,\n",
              "  4.034902811050415,\n",
              "  3.5117611408233644,\n",
              "  3.2407078742980957,\n",
              "  3.569169282913208,\n",
              "  3.3615967273712157,\n",
              "  3.8384416580200194,\n",
              "  3.3904258489608763,\n",
              "  3.2213782787323,\n",
              "  3.037061071395874,\n",
              "  3.326828384399414,\n",
              "  3.4512562990188598,\n",
              "  2.2804372787475584,\n",
              "  3.518406534194946,\n",
              "  4.160594320297241,\n",
              "  2.576319932937622,\n",
              "  3.1645838260650634,\n",
              "  3.6065951347351075,\n",
              "  3.515903902053833,\n",
              "  4.154410791397095,\n",
              "  2.955116534233093,\n",
              "  3.587944841384888,\n",
              "  3.8230707168579103,\n",
              "  3.7109708309173586,\n",
              "  2.449212574958801,\n",
              "  3.7528478145599364,\n",
              "  3.829493284225464,\n",
              "  3.9027958869934083,\n",
              "  3.906640625,\n",
              "  3.799018716812134,\n",
              "  3.031326103210449,\n",
              "  3.360778570175171,\n",
              "  3.428284215927124,\n",
              "  4.064856910705567,\n",
              "  3.645228052139282,\n",
              "  3.1669943809509276,\n",
              "  3.7667182445526124,\n",
              "  3.8226613998413086,\n",
              "  4.422668170928955,\n",
              "  3.8122974395751954,\n",
              "  3.508425164222717,\n",
              "  3.3985394477844237,\n",
              "  3.3991935729980467,\n",
              "  3.4021517276763915],\n",
              " [4.9978718757629395,\n",
              "  4.9978718757629395,\n",
              "  4.9978718757629395,\n",
              "  4.9978718757629395,\n",
              "  4.9978718757629395,\n",
              "  4.9978718757629395,\n",
              "  4.9978718757629395,\n",
              "  4.9978718757629395,\n",
              "  4.9978718757629395,\n",
              "  4.9978718757629395,\n",
              "  4.9978718757629395,\n",
              "  4.9978718757629395,\n",
              "  4.9978718757629395,\n",
              "  4.9978718757629395,\n",
              "  4.9978718757629395,\n",
              "  4.9978718757629395,\n",
              "  4.9978718757629395,\n",
              "  4.9978718757629395,\n",
              "  4.9978718757629395,\n",
              "  4.9978718757629395,\n",
              "  4.9978718757629395,\n",
              "  4.9978718757629395,\n",
              "  4.9978718757629395,\n",
              "  4.9978718757629395,\n",
              "  4.9978718757629395,\n",
              "  4.9978718757629395,\n",
              "  4.9978718757629395,\n",
              "  4.9978718757629395,\n",
              "  4.9978718757629395,\n",
              "  4.9978718757629395,\n",
              "  4.9978718757629395,\n",
              "  4.9978718757629395,\n",
              "  4.9978718757629395,\n",
              "  4.9978718757629395,\n",
              "  4.9978718757629395,\n",
              "  4.9978718757629395,\n",
              "  4.9978718757629395,\n",
              "  4.9978718757629395,\n",
              "  4.9978718757629395,\n",
              "  4.9978718757629395,\n",
              "  4.9978718757629395,\n",
              "  4.9978718757629395,\n",
              "  4.9978718757629395,\n",
              "  4.9978718757629395,\n",
              "  4.9978718757629395,\n",
              "  4.9978718757629395,\n",
              "  4.9978718757629395,\n",
              "  4.9978718757629395,\n",
              "  4.9978718757629395,\n",
              "  4.9978718757629395,\n",
              "  4.9978718757629395,\n",
              "  4.9978718757629395,\n",
              "  4.9978718757629395,\n",
              "  4.9978718757629395,\n",
              "  4.9978718757629395,\n",
              "  4.9978718757629395,\n",
              "  4.9978718757629395,\n",
              "  4.9978718757629395,\n",
              "  4.9978718757629395,\n",
              "  4.9978718757629395,\n",
              "  4.9978718757629395,\n",
              "  4.9978718757629395],\n",
              " [2048,\n",
              "  12288,\n",
              "  22528,\n",
              "  32768,\n",
              "  43008,\n",
              "  53248,\n",
              "  63488,\n",
              "  73728,\n",
              "  83968,\n",
              "  94208,\n",
              "  104448,\n",
              "  114688,\n",
              "  124928,\n",
              "  135168,\n",
              "  145408,\n",
              "  155648,\n",
              "  165888,\n",
              "  176128,\n",
              "  186368,\n",
              "  196608,\n",
              "  206848,\n",
              "  217088,\n",
              "  227328,\n",
              "  237568,\n",
              "  247808,\n",
              "  258048,\n",
              "  268288,\n",
              "  278528,\n",
              "  288768,\n",
              "  299008,\n",
              "  309248,\n",
              "  319488,\n",
              "  329728,\n",
              "  339968,\n",
              "  350208,\n",
              "  360448,\n",
              "  370688,\n",
              "  380928,\n",
              "  391168,\n",
              "  401408,\n",
              "  411648,\n",
              "  421888,\n",
              "  432128,\n",
              "  442368,\n",
              "  452608,\n",
              "  462848,\n",
              "  473088,\n",
              "  483328,\n",
              "  493568,\n",
              "  503808,\n",
              "  514048,\n",
              "  524288,\n",
              "  534528,\n",
              "  544768,\n",
              "  555008,\n",
              "  565248,\n",
              "  575488,\n",
              "  585728,\n",
              "  595968,\n",
              "  606208,\n",
              "  616448,\n",
              "  626688])"
            ]
          },
          "metadata": {},
          "execution_count": 24
        }
      ]
    },
    {
      "cell_type": "markdown",
      "id": "3a76a1e0-9635-480a-9391-3bda7aea402d",
      "metadata": {
        "id": "3a76a1e0-9635-480a-9391-3bda7aea402d"
      },
      "source": [
        "# Exercise 5.6: Trying larger models"
      ]
    },
    {
      "cell_type": "markdown",
      "id": "b3d313f4-0038-4bc9-a340-84b3b55dc0e3",
      "metadata": {
        "id": "b3d313f4-0038-4bc9-a340-84b3b55dc0e3"
      },
      "source": [
        "**Comparative Generative Analysis: Scale and Performance Variations in GPT-2 Model Architectures**\n",
        "\n",
        "**Key Research Question: How do generative text characteristics vary across different GPT-2 model scales, specifically comparing the 124 million and 1,558 million parameter configurations?**\n",
        "\n",
        "*Methodological Framework:*\n",
        "Conduct a systematic comparative investigation of:\n",
        "- Generative text quality\n",
        "- Semantic coherence\n",
        "- Linguistic complexity\n",
        "- Contextual understanding\n",
        "\n",
        "*Analytical Objectives:*\n",
        "- Empirically assess generative performance across model scales\n",
        "- Identify qualitative differences in text generation\n",
        "- Explore the relationship between model parameter count and generative capabilities\n",
        "\n",
        "*Comparative Model Configurations:*\n",
        "1. Smaller Model: **124 million parameters**\n",
        "2. Larger Model: **1,558 million parameters**\n",
        "\n",
        "*Investigative Dimensions:*\n",
        "- Textual coherence\n",
        "- Semantic precision\n",
        "- Contextual relevance\n",
        "- Linguistic nuance\n",
        "- Complexity of generated content\n",
        "\n",
        "*Experimental Protocol:*\n",
        "1. Generate text samples using both model configurations\n",
        "2. Conduct qualitative comparative analysis\n",
        "3. Assess generative performance across multiple dimensions\n",
        "4. Document observable variations in text generation characteristics\n",
        "\n",
        "*Recommended Analytical Approach:*\n",
        "- Utilize consistent generation parameters\n",
        "- Employ multiple generation trials\n",
        "- Implement rigorous qualitative assessment\n",
        "- Develop comprehensive comparative framework"
      ]
    },
    {
      "cell_type": "code",
      "source": [
        "model_name = \"gpt2-xl (1558M)\"\n",
        "settings, params = download_and_load_gpt2(model_size=\"1558M\", models_dir=\"gpt2\")\n",
        "load_weights_into_gpt(gpt2, params)\n",
        "gpt2.to(device);\n",
        "NEW_CONFIG2 = GPT_CONFIG_124M.copy()\n",
        "NEW_CONFIG2.update(model_configs[model_name])\n",
        "NEW_CONFIG2.update({\"context_length\": 1024, \"qkv_bias\": True})\n",
        "\n",
        "gpt2 = GPTModel(NEW_CONFIG2)\n",
        "gpt2.eval();"
      ],
      "metadata": {
        "id": "Mt6XtRHVzxLn",
        "colab": {
          "base_uri": "https://localhost:8080/"
        },
        "outputId": "90635d26-cda3-4b82-bbb5-e278969bfd6e"
      },
      "id": "Mt6XtRHVzxLn",
      "execution_count": null,
      "outputs": [
        {
          "output_type": "stream",
          "name": "stderr",
          "text": [
            "checkpoint: 100%|██████████| 77.0/77.0 [00:00<00:00, 83.4kiB/s]\n",
            "encoder.json: 100%|██████████| 1.04M/1.04M [00:00<00:00, 1.94MiB/s]\n",
            "hparams.json: 100%|██████████| 91.0/91.0 [00:00<00:00, 113kiB/s]\n",
            "model.ckpt.data-00000-of-00001: 100%|██████████| 6.23G/6.23G [09:19<00:00, 11.1MiB/s]\n",
            "model.ckpt.index: 100%|██████████| 20.7k/20.7k [00:00<00:00, 438kiB/s]\n",
            "model.ckpt.meta: 100%|██████████| 1.84M/1.84M [00:00<00:00, 2.57MiB/s]\n",
            "vocab.bpe: 100%|██████████| 456k/456k [00:00<00:00, 1.45MiB/s]\n"
          ]
        }
      ]
    },
    {
      "cell_type": "code",
      "source": [
        "train_model_simple(gpt2, train_loader, val_loader, optimizer, device,\n",
        "    num_epochs=10, eval_freq=5, eval_iter=5,\n",
        "    start_context=\"Every effort moves you\", tokenizer=tokenizer\n",
        ")"
      ],
      "metadata": {
        "id": "57lts8FBz0OZ"
      },
      "id": "57lts8FBz0OZ",
      "execution_count": null,
      "outputs": []
    }
  ],
  "metadata": {
    "kernelspec": {
      "display_name": "Python 3",
      "name": "python3"
    },
    "language_info": {
      "codemirror_mode": {
        "name": "ipython",
        "version": 3
      },
      "file_extension": ".py",
      "mimetype": "text/x-python",
      "name": "python",
      "nbconvert_exporter": "python",
      "pygments_lexer": "ipython3",
      "version": "3.9.13"
    },
    "colab": {
      "provenance": [],
      "gpuType": "T4"
    },
    "accelerator": "GPU"
  },
  "nbformat": 4,
  "nbformat_minor": 5
}