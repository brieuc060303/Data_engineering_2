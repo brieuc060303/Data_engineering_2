{
 "cells": [
  {
   "cell_type": "markdown",
   "id": "6e2a4891-c257-4d6b-afb3-e8fef39d0437",
   "metadata": {},
   "source": [
    "# Lab 1a - Chapter 2 \n",
    "> Author : Badr TAJINI - Large Language model (LLMs) - ESIEE 2024-2025"
   ]
  },
  {
   "cell_type": "markdown",
   "id": "6f678e62-7bcb-4405-86ae-dce94f494303",
   "metadata": {},
   "source": [
    "# The core implementation:\n"
   ]
  },
  {
   "cell_type": "markdown",
   "id": "070000fc-a7b7-4c56-a2c0-a938d413a790",
   "metadata": {},
   "source": [
    "\n",
    "\n",
    "This notebook contains the main takeaway, the data loading pipeline without the intermediate steps."
   ]
  },
  {
   "cell_type": "markdown",
   "id": "89e12af7",
   "metadata": {},
   "source": [
    "#### 1.  Imports libraries\n"
   ]
  },
  {
   "cell_type": "code",
   "execution_count": null,
   "id": "24aeef7b",
   "metadata": {},
   "outputs": [],
   "source": [
    "import tiktoken\n",
    "import torch\n",
    "from torch.utils.data import Dataset, DataLoader"
   ]
  },
  {
   "cell_type": "markdown",
   "id": "4e46a344",
   "metadata": {},
   "source": [
    "- tiktoken: OpenAI's tokenizer library for efficient text encoding\n",
    "- torch: The PyTorch deep learning framework\n",
    "- Dataset and DataLoader: PyTorch's data handling utilities"
   ]
  },
  {
   "cell_type": "markdown",
   "id": "66ceda38",
   "metadata": {},
   "source": [
    "#### 2. The GPTDatasetV1 class implementation:"
   ]
  },
  {
   "cell_type": "code",
   "execution_count": null,
   "id": "0ed4b7db-3b47-4fd3-a4a6-5f4ed5dd166e",
   "metadata": {},
   "outputs": [],
   "source": [
    "class GPTDatasetV1(Dataset):\n",
    "    def __init__(self, txt, tokenizer, max_length, stride):\n",
    "        self.input_ids = []\n",
    "        self.target_ids = []\n",
    "\n",
    "        # Tokenize the entire text\n",
    "        token_ids = tokenizer.encode(txt, allowed_special={\"<|endoftext|>\"})\n",
    "\n",
    "        # Use a sliding window to chunk the book into overlapping sequences of max_length\n",
    "        for i in range(0, len(token_ids) - max_length, stride):\n",
    "            input_chunk = token_ids[i:i + max_length]\n",
    "            target_chunk = token_ids[i + 1: i + max_length + 1]\n",
    "            self.input_ids.append(torch.tensor(input_chunk))\n",
    "            self.target_ids.append(torch.tensor(target_chunk))\n",
    "\n",
    "    def __len__(self):\n",
    "        return len(self.input_ids)\n",
    "\n",
    "    def __getitem__(self, idx):\n",
    "        return self.input_ids[idx], self.target_ids[idx]"
   ]
  },
  {
   "cell_type": "markdown",
   "id": "0d599c9f",
   "metadata": {},
   "source": [
    "This class implements a custom dataset that:\n",
    "\n",
    "- Accepts raw text and tokenizes it\n",
    "- Implements sliding window tokenization with specified stride\n",
    "- Creates input-target pairs shifted by one position (crucial for language modeling)\n",
    "- Converts token sequences to PyTorch tensors"
   ]
  },
  {
   "cell_type": "markdown",
   "id": "76e20d66",
   "metadata": {},
   "source": [
    "#### 3. The dataloader function:"
   ]
  },
  {
   "cell_type": "code",
   "execution_count": null,
   "id": "c5e0c3e3",
   "metadata": {},
   "outputs": [],
   "source": [
    "def create_dataloader_v1(txt, batch_size=4, max_length=256, \n",
    "                         stride=128, shuffle=True, drop_last=True, num_workers=0):\n",
    "    # Initialize the tokenizer\n",
    "    tokenizer = tiktoken.get_encoding(\"gpt2\")\n",
    "\n",
    "    # Create dataset\n",
    "    dataset = GPTDatasetV1(txt, tokenizer, max_length, stride)\n",
    "\n",
    "    # Create dataloader\n",
    "    dataloader = DataLoader(\n",
    "        dataset, batch_size=batch_size, shuffle=shuffle, drop_last=drop_last, num_workers=num_workers)\n",
    "\n",
    "    return dataloader"
   ]
  },
  {
   "cell_type": "markdown",
   "id": "ae67deea",
   "metadata": {},
   "source": [
    "This function encapsulates the dataset creation process and configures the dataloader with:\n",
    "\n",
    "- Customizable batch size and sequence length\n",
    "- Adjustable stride for controlling overlap between sequences\n",
    "- Options for shuffling and parallel data loading"
   ]
  },
  {
   "cell_type": "markdown",
   "id": "4665ada8",
   "metadata": {},
   "source": [
    "#### 4. The model initialization and data preparation"
   ]
  },
  {
   "cell_type": "code",
   "execution_count": null,
   "id": "ec3ea126",
   "metadata": {},
   "outputs": [],
   "source": [
    "with open(\"the-verdict.txt\", \"r\", encoding=\"utf-8\") as f:\n",
    "    raw_text = f.read()\n",
    "\n",
    "tokenizer = tiktoken.get_encoding(\"gpt2\")\n",
    "encoded_text = tokenizer.encode(raw_text)\n",
    "\n",
    "vocab_size = 50257\n",
    "output_dim = 256\n",
    "context_length = 1024"
   ]
  },
  {
   "cell_type": "markdown",
   "id": "92c297d0",
   "metadata": {},
   "source": [
    "This section establishes the model's fundamental parameters:\n",
    "\n",
    "- Loads the training text\n",
    "- Initializes the GPT-2 tokenizer\n",
    "- Defines architectural parameters (vocabulary size, embedding dimension, context length)"
   ]
  },
  {
   "cell_type": "markdown",
   "id": "122393f4",
   "metadata": {},
   "source": [
    "#### 5. The embedding layers setup"
   ]
  },
  {
   "cell_type": "code",
   "execution_count": null,
   "id": "6270a162",
   "metadata": {},
   "outputs": [],
   "source": [
    "token_embedding_layer = torch.nn.Embedding(vocab_size, output_dim)\n",
    "pos_embedding_layer = torch.nn.Embedding(context_length, output_dim)\n",
    "\n",
    "max_length = 4\n",
    "dataloader = create_dataloader_v1(raw_text, batch_size=8, max_length=max_length, stride=max_length)"
   ]
  },
  {
   "cell_type": "markdown",
   "id": "6f2b092f",
   "metadata": {},
   "source": [
    "This implements the two essential embedding components:\n",
    "\n",
    "- Token embeddings: Convert token IDs to dense vectors\n",
    "- Positional embeddings: Encode position information\n",
    "- Creates a dataloader with specified parameters for training"
   ]
  },
  {
   "cell_type": "markdown",
   "id": "9508f2b5",
   "metadata": {},
   "source": [
    "#### 6. The forward pass demonstration:"
   ]
  },
  {
   "cell_type": "code",
   "execution_count": 2,
   "id": "664397bc-6daa-4b88-90aa-e8fc1fbd5846",
   "metadata": {},
   "outputs": [],
   "source": [
    "for batch in dataloader:\n",
    "    x, y = batch\n",
    "\n",
    "    token_embeddings = token_embedding_layer(x)\n",
    "    pos_embeddings = pos_embedding_layer(torch.arange(max_length))\n",
    "\n",
    "    input_embeddings = token_embeddings + pos_embeddings\n",
    "\n",
    "    break"
   ]
  },
  {
   "cell_type": "markdown",
   "id": "4562c273",
   "metadata": {},
   "source": [
    "This showcases the embedding process:\n",
    "\n",
    "- Extracts input-target pairs from the batch\n",
    "- Computes token embeddings\n",
    "- Adds positional information\n",
    "- Combines both embeddings through addition"
   ]
  },
  {
   "cell_type": "markdown",
   "id": "bfebbfbe",
   "metadata": {},
   "source": [
    "The final output shape verification:"
   ]
  },
  {
   "cell_type": "code",
   "execution_count": 3,
   "id": "d3664332-e6bb-447e-8b96-203aafde8b24",
   "metadata": {},
   "outputs": [
    {
     "name": "stdout",
     "output_type": "stream",
     "text": [
      "torch.Size([8, 4, 256])\n"
     ]
    }
   ],
   "source": [
    "print(input_embeddings.shape)"
   ]
  },
  {
   "cell_type": "markdown",
   "id": "b47dd6ae",
   "metadata": {},
   "source": [
    "**Confirms the expected tensor dimensions:**\n",
    "\n",
    "- Batch size: 8\n",
    "- Sequence length: 4\n",
    "- Embedding dimension: 256\n",
    "\n",
    "This implementation demonstrates a foundational approach to preparing text data for language model training, incorporating essential components like sliding window tokenization, positional encoding, and batch processing.\n",
    "\n",
    "\n",
    "END."
   ]
  }
 ],
 "metadata": {
  "kernelspec": {
   "display_name": "Python 3 (ipykernel)",
   "language": "python",
   "name": "python3"
  },
  "language_info": {
   "codemirror_mode": {
    "name": "ipython",
    "version": 3
   },
   "file_extension": ".py",
   "mimetype": "text/x-python",
   "name": "python",
   "nbconvert_exporter": "python",
   "pygments_lexer": "ipython3",
   "version": "3.11.4"
  }
 },
 "nbformat": 4,
 "nbformat_minor": 5
}
